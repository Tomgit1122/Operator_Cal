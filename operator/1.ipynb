{
 "cells": [
  {
   "cell_type": "code",
   "id": "initial_id",
   "metadata": {
    "collapsed": true,
    "ExecuteTime": {
     "end_time": "2025-09-10T16:13:48.202657Z",
     "start_time": "2025-09-10T16:13:48.189656Z"
    }
   },
   "source": [
    "# Import the API\n",
    "import sys\n",
    "sys.path.append('path/to/okx/operator/src')\n",
    "\n",
    "from src.main_engine import build_expr, EvalContext,build_optimized_expr,build_multiple_expr\n",
    "import polars as pl\n",
    "data = pl.scan_parquet(r'E:\\Random_Project\\okx\\operator\\test\\data\\financial_test_data.parquet')\n",
    "# Create context\n",
    "ctx = EvalContext(\n",
    "    variables={\n",
    "        \"close\": pl.col(\"close\"),\n",
    "        \"volume\": pl.col(\"volume\"),\n",
    "        \"returns\": pl.col(\"returns\")\n",
    "    },\n",
    "    ticker_col=\"ticker\",\n",
    "    time_col=\"time\"\n",
    ")\n"
   ],
   "outputs": [],
   "execution_count": 3
  },
  {
   "metadata": {
    "ExecuteTime": {
     "end_time": "2025-09-10T16:13:50.396306Z",
     "start_time": "2025-09-10T16:13:50.310704Z"
    }
   },
   "cell_type": "code",
   "source": [
    "expr = build_expr(\"TSMean(close, 20)\", ctx)\n",
    "result = data.with_columns(factor=expr).collect()"
   ],
   "id": "e50b6e636d43318",
   "outputs": [],
   "execution_count": 4
  },
  {
   "metadata": {
    "ExecuteTime": {
     "end_time": "2025-09-10T16:13:51.831199Z",
     "start_time": "2025-09-10T16:13:51.774172Z"
    }
   },
   "cell_type": "code",
   "source": [
    "# Complex nested expression - automatically handled\n",
    "result = build_optimized_expr('CSScale(Add(Clip(turnover, 0.0, 10.0), TSLag(TSMean(Log(turnover), 20), 1)))', ctx, data, \"complex_alpha\")\n",
    "final = result.select(['ticker', 'time', 'complex_alpha']).collect()"
   ],
   "id": "ba2386c0faf4dee2",
   "outputs": [],
   "execution_count": 5
  },
  {
   "metadata": {
    "ExecuteTime": {
     "end_time": "2025-09-10T16:13:52.431307Z",
     "start_time": "2025-09-10T16:13:52.408314Z"
    }
   },
   "cell_type": "code",
   "source": "final",
   "id": "316526c513045ffd",
   "outputs": [
    {
     "data": {
      "text/plain": [
       "shape: (90_720, 3)\n",
       "┌────────┬──────┬───────────────┐\n",
       "│ ticker ┆ time ┆ complex_alpha │\n",
       "│ ---    ┆ ---  ┆ ---           │\n",
       "│ str    ┆ i64  ┆ f64           │\n",
       "╞════════╪══════╪═══════════════╡\n",
       "│ AAPL   ┆ 0    ┆ null          │\n",
       "│ AMZN   ┆ 0    ┆ 0.88707       │\n",
       "│ BABA   ┆ 0    ┆ 0.198547      │\n",
       "│ BIDU   ┆ 0    ┆ -1.171392     │\n",
       "│ CRM    ┆ 0    ┆ 0.322099      │\n",
       "│ …      ┆ …    ┆ …             │\n",
       "│ NFLX   ┆ 6047 ┆ 0.121564      │\n",
       "│ NIO    ┆ 6047 ┆ 0.838984      │\n",
       "│ NVDA   ┆ 6047 ┆ -0.380725     │\n",
       "│ ORCL   ┆ 6047 ┆ -0.266306     │\n",
       "│ TSLA   ┆ 6047 ┆ 3.260897      │\n",
       "└────────┴──────┴───────────────┘"
      ],
      "text/html": [
       "<div><style>\n",
       ".dataframe > thead > tr,\n",
       ".dataframe > tbody > tr {\n",
       "  text-align: right;\n",
       "  white-space: pre-wrap;\n",
       "}\n",
       "</style>\n",
       "<small>shape: (90_720, 3)</small><table border=\"1\" class=\"dataframe\"><thead><tr><th>ticker</th><th>time</th><th>complex_alpha</th></tr><tr><td>str</td><td>i64</td><td>f64</td></tr></thead><tbody><tr><td>&quot;AAPL&quot;</td><td>0</td><td>null</td></tr><tr><td>&quot;AMZN&quot;</td><td>0</td><td>0.88707</td></tr><tr><td>&quot;BABA&quot;</td><td>0</td><td>0.198547</td></tr><tr><td>&quot;BIDU&quot;</td><td>0</td><td>-1.171392</td></tr><tr><td>&quot;CRM&quot;</td><td>0</td><td>0.322099</td></tr><tr><td>&hellip;</td><td>&hellip;</td><td>&hellip;</td></tr><tr><td>&quot;NFLX&quot;</td><td>6047</td><td>0.121564</td></tr><tr><td>&quot;NIO&quot;</td><td>6047</td><td>0.838984</td></tr><tr><td>&quot;NVDA&quot;</td><td>6047</td><td>-0.380725</td></tr><tr><td>&quot;ORCL&quot;</td><td>6047</td><td>-0.266306</td></tr><tr><td>&quot;TSLA&quot;</td><td>6047</td><td>3.260897</td></tr></tbody></table></div>"
      ]
     },
     "execution_count": 6,
     "metadata": {},
     "output_type": "execute_result"
    }
   ],
   "execution_count": 6
  },
  {
   "metadata": {
    "ExecuteTime": {
     "end_time": "2025-09-10T16:13:53.423824Z",
     "start_time": "2025-09-10T16:13:53.367825Z"
    }
   },
   "cell_type": "code",
   "source": [
    "expressions = {\n",
    "    'ma20': 'TSMean(close, 20)',\n",
    "    'volatility_': 'TSStd(returns, 20)',\n",
    "    'complex_nested': 'TSMean(TSStd(close, 10), 5)',     # Complex nesting - works!\n",
    "    'mixed_operators': 'CSRank(TSMean(volume, 10))',     # Mixed operators - works!\n",
    "    'time_on_cross': 'TSMean(CSScale(returns), 5)'       # Time series on cross section - works!\n",
    "}\n",
    "\n",
    "builder = build_multiple_expr(expressions, ctx)\n",
    "result = builder.apply(data.lazy()).collect()\n",
    "\n",
    "print(f\"Successfully built {len([col for col in result.columns if col in expressions.keys()])} factors\")"
   ],
   "id": "f550413e11dde4b4",
   "outputs": [
    {
     "name": "stdout",
     "output_type": "stream",
     "text": [
      "Successfully built 5 factors\n"
     ]
    }
   ],
   "execution_count": 7
  },
  {
   "metadata": {
    "ExecuteTime": {
     "end_time": "2025-09-10T16:13:54.167839Z",
     "start_time": "2025-09-10T16:13:54.156857Z"
    }
   },
   "cell_type": "code",
   "source": "result",
   "id": "83573b0aa040ee67",
   "outputs": [
    {
     "data": {
      "text/plain": [
       "shape: (90_720, 19)\n",
       "┌────────┬──────┬─────────────┬───────────┬───┬─────────────┬────────────┬────────────┬────────────┐\n",
       "│ ticker ┆ time ┆ high        ┆ amount    ┆ … ┆ volatility_ ┆ complex_ne ┆ mixed_oper ┆ time_on_cr │\n",
       "│ ---    ┆ ---  ┆ ---         ┆ ---       ┆   ┆ ---         ┆ sted       ┆ ators      ┆ oss        │\n",
       "│ str    ┆ i64  ┆ f64         ┆ f64       ┆   ┆ f64         ┆ ---        ┆ ---        ┆ ---        │\n",
       "│        ┆      ┆             ┆           ┆   ┆             ┆ f64        ┆ f64        ┆ f64        │\n",
       "╞════════╪══════╪═════════════╪═══════════╪═══╪═════════════╪════════════╪════════════╪════════════╡\n",
       "│ AAPL   ┆ 0    ┆ 239.304905  ┆ 3.5666e12 ┆ … ┆ null        ┆ null       ┆ 55525.0    ┆ 0.233248   │\n",
       "│ AMZN   ┆ 0    ┆ 315.95973   ┆ 8.0362e12 ┆ … ┆ null        ┆ null       ┆ 67522.0    ┆ 0.6912     │\n",
       "│ BABA   ┆ 0    ┆ 60.799873   ┆ 1.1318e11 ┆ … ┆ null        ┆ null       ┆ 14691.0    ┆ 0.652564   │\n",
       "│ BIDU   ┆ 0    ┆ 425.656933  ┆ 1.1650e12 ┆ … ┆ null        ┆ null       ┆ 19521.0    ┆ 0.406759   │\n",
       "│ CRM    ┆ 0    ┆ 368.735851  ┆ 7.6041e12 ┆ … ┆ null        ┆ null       ┆ 61920.0    ┆ 0.528884   │\n",
       "│ …      ┆ …    ┆ …           ┆ …         ┆ … ┆ …           ┆ …          ┆ …          ┆ …          │\n",
       "│ NFLX   ┆ 6047 ┆ 1.0638e8    ┆ 3.3952e16 ┆ … ┆ 0.053008    ┆ 421643.594 ┆ 3653.0     ┆ -0.59229   │\n",
       "│        ┆      ┆             ┆           ┆   ┆             ┆ 705        ┆            ┆            │\n",
       "│ NIO    ┆ 6047 ┆ 495082.3525 ┆ 4.0964e15 ┆ … ┆ 0.033036    ┆ 424071.755 ┆ 24486.0    ┆ -0.847755  │\n",
       "│        ┆      ┆ 78          ┆           ┆   ┆             ┆ 086        ┆            ┆            │\n",
       "│ NVDA   ┆ 6047 ┆ 361.308255  ┆ 4.3670e11 ┆ … ┆ 0.026804    ┆ 424073.520 ┆ 9283.0     ┆ -0.043412  │\n",
       "│        ┆      ┆             ┆           ┆   ┆             ┆ 879        ┆            ┆            │\n",
       "│ ORCL   ┆ 6047 ┆ 1.3849e7    ┆ 9.2098e15 ┆ … ┆ 0.252097    ┆ 3.1699e6   ┆ 71888.0    ┆ -0.081511  │\n",
       "│ TSLA   ┆ 6047 ┆ 2996.998586 ┆ 1.4832e13 ┆ … ┆ 0.014245    ┆ 3.1699e6   ┆ 31178.0    ┆ -0.01284   │\n",
       "└────────┴──────┴─────────────┴───────────┴───┴─────────────┴────────────┴────────────┴────────────┘"
      ],
      "text/html": [
       "<div><style>\n",
       ".dataframe > thead > tr,\n",
       ".dataframe > tbody > tr {\n",
       "  text-align: right;\n",
       "  white-space: pre-wrap;\n",
       "}\n",
       "</style>\n",
       "<small>shape: (90_720, 19)</small><table border=\"1\" class=\"dataframe\"><thead><tr><th>ticker</th><th>time</th><th>high</th><th>amount</th><th>pct_change</th><th>spread</th><th>low</th><th>close</th><th>open</th><th>vwap</th><th>turnover</th><th>returns</th><th>relative_position</th><th>volume</th><th>ma20</th><th>volatility_</th><th>complex_nested</th><th>mixed_operators</th><th>time_on_cross</th></tr><tr><td>str</td><td>i64</td><td>f64</td><td>f64</td><td>f64</td><td>f64</td><td>f64</td><td>f64</td><td>f64</td><td>f64</td><td>f64</td><td>f64</td><td>f64</td><td>f64</td><td>f64</td><td>f64</td><td>f64</td><td>f64</td><td>f64</td></tr></thead><tbody><tr><td>&quot;AAPL&quot;</td><td>0</td><td>239.304905</td><td>3.5666e12</td><td>0.0</td><td>27.537063</td><td>211.767842</td><td>211.825978</td><td>238.885503</td><td>225.477106</td><td>3.5666e9</td><td>0.000128</td><td>0.002111</td><td>1.6910e7</td><td>211.825978</td><td>null</td><td>null</td><td>55525.0</td><td>0.233248</td></tr><tr><td>&quot;AMZN&quot;</td><td>0</td><td>315.95973</td><td>8.0362e12</td><td>0.0</td><td>24.591651</td><td>291.36808</td><td>315.686143</td><td>291.562023</td><td>303.693425</td><td>8.0362e9</td><td>0.000899</td><td>0.988875</td><td>2.5414e7</td><td>315.686143</td><td>null</td><td>null</td><td>67522.0</td><td>0.6912</td></tr><tr><td>&quot;BABA&quot;</td><td>0</td><td>60.799873</td><td>1.1318e11</td><td>0.0</td><td>5.310259</td><td>55.489614</td><td>60.746874</td><td>55.575639</td><td>58.179233</td><td>1.1318e8</td><td>0.000416</td><td>0.99002</td><td>1.8486e6</td><td>60.746874</td><td>null</td><td>null</td><td>14691.0</td><td>0.652564</td></tr><tr><td>&quot;BIDU&quot;</td><td>0</td><td>425.656933</td><td>1.1650e12</td><td>0.0</td><td>5.219194</td><td>420.437739</td><td>421.35043</td><td>425.634732</td><td>422.89839</td><td>1.1650e9</td><td>-0.000346</td><td>0.174872</td><td>2.8417e6</td><td>421.35043</td><td>null</td><td>null</td><td>19521.0</td><td>0.406759</td></tr><tr><td>&quot;CRM&quot;</td><td>0</td><td>368.735851</td><td>7.6041e12</td><td>0.0</td><td>7.158102</td><td>361.577749</td><td>368.235522</td><td>362.400385</td><td>365.505631</td><td>7.6041e9</td><td>0.000788</td><td>0.930103</td><td>2.1083e7</td><td>368.235522</td><td>null</td><td>null</td><td>61920.0</td><td>0.528884</td></tr><tr><td>&hellip;</td><td>&hellip;</td><td>&hellip;</td><td>&hellip;</td><td>&hellip;</td><td>&hellip;</td><td>&hellip;</td><td>&hellip;</td><td>&hellip;</td><td>&hellip;</td><td>&hellip;</td><td>&hellip;</td><td>&hellip;</td><td>&hellip;</td><td>&hellip;</td><td>&hellip;</td><td>&hellip;</td><td>&hellip;</td><td>&hellip;</td></tr><tr><td>&quot;NFLX&quot;</td><td>6047</td><td>1.0638e8</td><td>3.3952e16</td><td>-7694.276424</td><td>6.3061e6</td><td>1.0008e8</td><td>1.0622e8</td><td>1.0023e8</td><td>1.0308e8</td><td>3.3952e13</td><td>-0.030282</td><td>0.974259</td><td>324364.626345</td><td>9.8964e7</td><td>0.053008</td><td>421643.594705</td><td>3653.0</td><td>-0.59229</td></tr><tr><td>&quot;NIO&quot;</td><td>6047</td><td>495082.352578</td><td>4.0964e15</td><td>-172.452656</td><td>73805.950579</td><td>421276.401999</td><td>421727.606227</td><td>494941.571187</td><td>458276.682074</td><td>4.0964e12</td><td>-0.054929</td><td>0.006113</td><td>9.4597e6</td><td>475059.23386</td><td>0.033036</td><td>424071.755086</td><td>24486.0</td><td>-0.847755</td></tr><tr><td>&quot;NVDA&quot;</td><td>6047</td><td>361.308255</td><td>4.3670e11</td><td>0.095443</td><td>61.671566</td><td>299.636689</td><td>358.376688</td><td>305.629</td><td>331.029632</td><td>4.3670e8</td><td>0.032948</td><td>0.952465</td><td>1.2309e6</td><td>365.493551</td><td>0.026804</td><td>424073.520879</td><td>9283.0</td><td>-0.043412</td></tr><tr><td>&quot;ORCL&quot;</td><td>6047</td><td>1.3849e7</td><td>9.2098e15</td><td>-365.680201</td><td>907663.184331</td><td>1.2941e7</td><td>1.2948e7</td><td>1.3848e7</td><td>1.3387e7</td><td>9.2098e12</td><td>-0.009192</td><td>0.007896</td><td>718080.394132</td><td>3.7174e7</td><td>0.252097</td><td>3.1699e6</td><td>71888.0</td><td>-0.081511</td></tr><tr><td>&quot;TSLA&quot;</td><td>6047</td><td>2996.998586</td><td>1.4832e13</td><td>0.455567</td><td>201.413811</td><td>2795.584775</td><td>2795.748121</td><td>2995.988073</td><td>2895.274366</td><td>1.4832e10</td><td>0.020764</td><td>0.000811</td><td>5.2344e6</td><td>2895.648269</td><td>0.014245</td><td>3.1699e6</td><td>31178.0</td><td>-0.01284</td></tr></tbody></table></div>"
      ]
     },
     "execution_count": 8,
     "metadata": {},
     "output_type": "execute_result"
    }
   ],
   "execution_count": 8
  },
  {
   "metadata": {},
   "cell_type": "code",
   "outputs": [],
   "execution_count": null,
   "source": "",
   "id": "762f021d04546653"
  }
 ],
 "metadata": {
  "kernelspec": {
   "display_name": "Python 3",
   "language": "python",
   "name": "python3"
  },
  "language_info": {
   "codemirror_mode": {
    "name": "ipython",
    "version": 2
   },
   "file_extension": ".py",
   "mimetype": "text/x-python",
   "name": "python",
   "nbconvert_exporter": "python",
   "pygments_lexer": "ipython2",
   "version": "2.7.6"
  }
 },
 "nbformat": 4,
 "nbformat_minor": 5
}
